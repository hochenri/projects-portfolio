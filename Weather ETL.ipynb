{
 "cells": [
  {
   "cell_type": "markdown",
   "id": "f8056f98-a13d-417c-80e6-b95be8064b63",
   "metadata": {},
   "source": [
    "# Weather anomalies data pipeline\n",
    "The following data pipeline extracts weather data from a simulated weather api, finds weather anomalies and saves the anomalies found into a database."
   ]
  },
  {
   "cell_type": "code",
   "execution_count": 1,
   "id": "79d4dbaf-aaf2-49b6-b0f1-13e3d5ff205e",
   "metadata": {},
   "outputs": [],
   "source": [
    "import random\n",
    "import pandas as pd\n",
    "from datetime import datetime, timedelta\n",
    "from sklearn.neighbors import LocalOutlierFactor\n",
    "import sqlite3"
   ]
  },
  {
   "cell_type": "code",
   "execution_count": 2,
   "id": "8b80a3aa-ff02-4b0e-b54f-3bd57ce8d65e",
   "metadata": {},
   "outputs": [],
   "source": [
    "def simulate_weather_api(start_date, end_date):\n",
    "    # Convert string dates to datetime objects\n",
    "    start_date = datetime.strptime(start_date, '%Y-%m-%d')\n",
    "    end_date = datetime.strptime(end_date, '%Y-%m-%d')\n",
    "    \n",
    "    # Generate a list of dates between start_date and end_date\n",
    "    date_range = pd.date_range(start_date, end_date)\n",
    "    \n",
    "    # Initialize lists to store weather data\n",
    "    temperatures = []\n",
    "    humidities = []\n",
    "    wind_speeds = []\n",
    "    \n",
    "    # Generate random weather data for each date\n",
    "    for date in date_range:\n",
    "        temperatures.append(round(random.uniform(14, 95), 1))  # Temperature in Fahrenheit\n",
    "        humidities.append(random.randint(20, 100))  # Humidity in percentage\n",
    "        wind_speeds.append(round(random.uniform(0, 12.4), 1))  # Wind speed in mph\n",
    "    \n",
    "    # Create a DataFrame to store the weather data\n",
    "    weather_data = pd.DataFrame({\n",
    "        'Date': date_range,\n",
    "        'Temperature (°F)': temperatures,\n",
    "        'Humidity (%)': humidities,\n",
    "        'Wind Speed (mph)': wind_speeds,\n",
    "    })\n",
    "    \n",
    "    return weather_data"
   ]
  },
  {
   "cell_type": "code",
   "execution_count": 3,
   "id": "f87fb5e8-f2ee-4d68-997f-9787e0797f20",
   "metadata": {},
   "outputs": [],
   "source": [
    "def convert_units(df):\n",
    "    # Convert temperature from Fahrenheit to Celsius\n",
    "    df['Temperature (°C)'] = (df['Temperature (°F)'] - 32) * 5.0/9.0\n",
    "    \n",
    "    # Convert wind speed from mph to km/h\n",
    "    df['Wind Speed (km/h)'] = df['Wind Speed (mph)'] * 1.60934\n",
    "    \n",
    "    return df"
   ]
  },
  {
   "cell_type": "code",
   "execution_count": 4,
   "id": "d5686488-5919-450a-843d-c4ee3b766c52",
   "metadata": {},
   "outputs": [],
   "source": [
    "def find_anomalies(df):\n",
    "    # Select relevant features for anomaly detection\n",
    "    features = df[['Temperature (°C)', 'Humidity (%)', 'Wind Speed (km/h)']]\n",
    "    \n",
    "    # Apply Local Outlier Factor to detect anomalies\n",
    "    lof = LocalOutlierFactor(n_neighbors=20, contamination=0.1)\n",
    "    df['Anomaly'] = lof.fit_predict(features)\n",
    "    \n",
    "    # Filter the DataFrame to include only anomalies\n",
    "    anomalies = df[df['Anomaly'] == -1]\n",
    "    \n",
    "    return anomalies"
   ]
  },
  {
   "cell_type": "code",
   "execution_count": 5,
   "id": "33ea942e-971e-444a-9c6d-2defd0acc7b3",
   "metadata": {},
   "outputs": [],
   "source": [
    "def select_columns(df):\n",
    "    df = df.drop(columns=['Anomaly', 'Temperature (°F)', 'Wind Speed (mph)'])\n",
    "    return df"
   ]
  },
  {
   "cell_type": "code",
   "execution_count": 6,
   "id": "ac84f22c-862e-4365-8b80-7cf841349b8f",
   "metadata": {},
   "outputs": [],
   "source": [
    "def load_to_sqlite(df, db_name='weather_data.db'):\n",
    "    # Connect to SQLite database\n",
    "    conn = sqlite3.connect(db_name)\n",
    "    \n",
    "    # Load DataFrame to SQLite database\n",
    "    df.to_sql('weather_anomalies', conn, if_exists='append', index=False)\n",
    "    \n",
    "    # Close the connection\n",
    "    conn.close()"
   ]
  },
  {
   "cell_type": "code",
   "execution_count": 7,
   "id": "e156f485-1347-4063-ab70-6829cddc5fff",
   "metadata": {},
   "outputs": [],
   "source": [
    "# Example usage\n",
    "start_date = '2014-09-01'\n",
    "end_date = '2024-09-01'\n",
    "weather_data = simulate_weather_api(start_date, end_date)\n",
    "weather_data = convert_units(weather_data)\n",
    "anomalies = find_anomalies(weather_data)\n",
    "anomalies = select_columns(anomalies)\n",
    "load_to_sqlite(anomalies)"
   ]
  },
  {
   "cell_type": "code",
   "execution_count": 8,
   "id": "60549d0b-8321-433f-a1ab-98c1fd61263e",
   "metadata": {},
   "outputs": [
    {
     "data": {
      "text/html": [
       "<div>\n",
       "<style scoped>\n",
       "    .dataframe tbody tr th:only-of-type {\n",
       "        vertical-align: middle;\n",
       "    }\n",
       "\n",
       "    .dataframe tbody tr th {\n",
       "        vertical-align: top;\n",
       "    }\n",
       "\n",
       "    .dataframe thead th {\n",
       "        text-align: right;\n",
       "    }\n",
       "</style>\n",
       "<table border=\"1\" class=\"dataframe\">\n",
       "  <thead>\n",
       "    <tr style=\"text-align: right;\">\n",
       "      <th></th>\n",
       "      <th>Date</th>\n",
       "      <th>Humidity (%)</th>\n",
       "      <th>Temperature (°C)</th>\n",
       "      <th>Wind Speed (km/h)</th>\n",
       "    </tr>\n",
       "  </thead>\n",
       "  <tbody>\n",
       "    <tr>\n",
       "      <th>0</th>\n",
       "      <td>2014-09-19 00:00:00</td>\n",
       "      <td>20</td>\n",
       "      <td>-8.944444</td>\n",
       "      <td>17.863674</td>\n",
       "    </tr>\n",
       "    <tr>\n",
       "      <th>1</th>\n",
       "      <td>2014-09-27 00:00:00</td>\n",
       "      <td>81</td>\n",
       "      <td>-9.555556</td>\n",
       "      <td>0.160934</td>\n",
       "    </tr>\n",
       "    <tr>\n",
       "      <th>2</th>\n",
       "      <td>2014-09-28 00:00:00</td>\n",
       "      <td>50</td>\n",
       "      <td>19.000000</td>\n",
       "      <td>18.829278</td>\n",
       "    </tr>\n",
       "    <tr>\n",
       "      <th>3</th>\n",
       "      <td>2014-10-11 00:00:00</td>\n",
       "      <td>37</td>\n",
       "      <td>5.722222</td>\n",
       "      <td>19.955816</td>\n",
       "    </tr>\n",
       "    <tr>\n",
       "      <th>4</th>\n",
       "      <td>2014-11-01 00:00:00</td>\n",
       "      <td>72</td>\n",
       "      <td>16.611111</td>\n",
       "      <td>19.794882</td>\n",
       "    </tr>\n",
       "  </tbody>\n",
       "</table>\n",
       "</div>"
      ],
      "text/plain": [
       "                  Date  Humidity (%)  Temperature (°C)  Wind Speed (km/h)\n",
       "0  2014-09-19 00:00:00            20         -8.944444          17.863674\n",
       "1  2014-09-27 00:00:00            81         -9.555556           0.160934\n",
       "2  2014-09-28 00:00:00            50         19.000000          18.829278\n",
       "3  2014-10-11 00:00:00            37          5.722222          19.955816\n",
       "4  2014-11-01 00:00:00            72         16.611111          19.794882"
      ]
     },
     "execution_count": 8,
     "metadata": {},
     "output_type": "execute_result"
    }
   ],
   "source": [
    "# Connect to SQLite database\n",
    "conn = sqlite3.connect('weather_data.db')\n",
    "\n",
    "# Read data from SQLite database into DataFrame\n",
    "df = pd.read_sql('SELECT * FROM weather_anomalies', conn)\n",
    "\n",
    "# Close the connection\n",
    "conn.close()\n",
    "\n",
    "df.head()"
   ]
  },
  {
   "cell_type": "code",
   "execution_count": null,
   "id": "67bac26d-a8dd-4ef7-9a26-137106734ab4",
   "metadata": {},
   "outputs": [],
   "source": []
  }
 ],
 "metadata": {
  "kernelspec": {
   "display_name": "Python 3 (ipykernel)",
   "language": "python",
   "name": "python3"
  },
  "language_info": {
   "codemirror_mode": {
    "name": "ipython",
    "version": 3
   },
   "file_extension": ".py",
   "mimetype": "text/x-python",
   "name": "python",
   "nbconvert_exporter": "python",
   "pygments_lexer": "ipython3",
   "version": "3.11.5"
  }
 },
 "nbformat": 4,
 "nbformat_minor": 5
}
